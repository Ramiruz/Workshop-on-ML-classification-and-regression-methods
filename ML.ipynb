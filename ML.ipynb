{
 "cells": [
  {
   "cell_type": "markdown",
   "metadata": {},
   "source": [
    "# ML on Workshop\n",
    "\n",
    "# Modelo de regresion lineal\n",
    "\n",
    "Entreno de modelo\n",
    "Testeo de modelo (Sin terminar)"
   ]
  },
  {
   "cell_type": "code",
   "execution_count": 52,
   "metadata": {},
   "outputs": [],
   "source": [
    "import pandas as pd\n",
    "import numpy as np\n",
    "import matplotlib.pyplot as plt"
   ]
  },
  {
   "cell_type": "code",
   "execution_count": 53,
   "metadata": {},
   "outputs": [],
   "source": [
    "#Creacion de variables para el entreno y prueba del modelo\n",
    "train= pd.read_csv('Daily Demand Forecasting Orders_Daily_Demand_Forecasting_Orders.csv')\n",
    "test= pd.read_csv('Daily Demand Forecasting Orders_Daily_Demand_Forecasting_Orders.csv')"
   ]
  },
  {
   "cell_type": "code",
   "execution_count": 54,
   "metadata": {},
   "outputs": [
    {
     "data": {
      "text/html": [
       "<div>\n",
       "<style scoped>\n",
       "    .dataframe tbody tr th:only-of-type {\n",
       "        vertical-align: middle;\n",
       "    }\n",
       "\n",
       "    .dataframe tbody tr th {\n",
       "        vertical-align: top;\n",
       "    }\n",
       "\n",
       "    .dataframe thead th {\n",
       "        text-align: right;\n",
       "    }\n",
       "</style>\n",
       "<table border=\"1\" class=\"dataframe\">\n",
       "  <thead>\n",
       "    <tr style=\"text-align: right;\">\n",
       "      <th></th>\n",
       "      <th>Week of the month (first week second third fourth or fifth week)</th>\n",
       "      <th>Day of the week (Monday to Friday)</th>\n",
       "      <th>Non-urgent order</th>\n",
       "      <th>Urgent order</th>\n",
       "      <th>Order type A</th>\n",
       "      <th>Order type B</th>\n",
       "      <th>Order type C</th>\n",
       "      <th>Fiscal sector orders</th>\n",
       "      <th>Orders from the traffic controller sector</th>\n",
       "      <th>Banking orders (1)</th>\n",
       "      <th>Banking orders (2)</th>\n",
       "      <th>Banking orders (3)</th>\n",
       "      <th>Target (Total orders)</th>\n",
       "    </tr>\n",
       "  </thead>\n",
       "  <tbody>\n",
       "    <tr>\n",
       "      <th>0</th>\n",
       "      <td>1</td>\n",
       "      <td>4</td>\n",
       "      <td>316.307</td>\n",
       "      <td>223.270</td>\n",
       "      <td>61.543</td>\n",
       "      <td>175.586</td>\n",
       "      <td>302.448</td>\n",
       "      <td>0.000</td>\n",
       "      <td>65556</td>\n",
       "      <td>44914</td>\n",
       "      <td>188411</td>\n",
       "      <td>14793</td>\n",
       "      <td>539.577</td>\n",
       "    </tr>\n",
       "    <tr>\n",
       "      <th>1</th>\n",
       "      <td>1</td>\n",
       "      <td>5</td>\n",
       "      <td>128.633</td>\n",
       "      <td>96.042</td>\n",
       "      <td>38.058</td>\n",
       "      <td>56.037</td>\n",
       "      <td>130.580</td>\n",
       "      <td>0.000</td>\n",
       "      <td>40419</td>\n",
       "      <td>21399</td>\n",
       "      <td>89461</td>\n",
       "      <td>7679</td>\n",
       "      <td>224.675</td>\n",
       "    </tr>\n",
       "    <tr>\n",
       "      <th>2</th>\n",
       "      <td>1</td>\n",
       "      <td>6</td>\n",
       "      <td>43.651</td>\n",
       "      <td>84.375</td>\n",
       "      <td>21.826</td>\n",
       "      <td>25.125</td>\n",
       "      <td>82.461</td>\n",
       "      <td>1.386</td>\n",
       "      <td>11992</td>\n",
       "      <td>3452</td>\n",
       "      <td>21305</td>\n",
       "      <td>14947</td>\n",
       "      <td>129.412</td>\n",
       "    </tr>\n",
       "    <tr>\n",
       "      <th>3</th>\n",
       "      <td>2</td>\n",
       "      <td>2</td>\n",
       "      <td>171.297</td>\n",
       "      <td>127.667</td>\n",
       "      <td>41.542</td>\n",
       "      <td>113.294</td>\n",
       "      <td>162.284</td>\n",
       "      <td>18.156</td>\n",
       "      <td>49971</td>\n",
       "      <td>33703</td>\n",
       "      <td>69054</td>\n",
       "      <td>18423</td>\n",
       "      <td>317.120</td>\n",
       "    </tr>\n",
       "    <tr>\n",
       "      <th>4</th>\n",
       "      <td>2</td>\n",
       "      <td>3</td>\n",
       "      <td>90.532</td>\n",
       "      <td>113.526</td>\n",
       "      <td>37.679</td>\n",
       "      <td>56.618</td>\n",
       "      <td>116.220</td>\n",
       "      <td>6.459</td>\n",
       "      <td>48534</td>\n",
       "      <td>19646</td>\n",
       "      <td>16411</td>\n",
       "      <td>20257</td>\n",
       "      <td>210.517</td>\n",
       "    </tr>\n",
       "  </tbody>\n",
       "</table>\n",
       "</div>"
      ],
      "text/plain": [
       "   Week of the month (first week second third fourth or fifth week)  \\\n",
       "0                                                  1                  \n",
       "1                                                  1                  \n",
       "2                                                  1                  \n",
       "3                                                  2                  \n",
       "4                                                  2                  \n",
       "\n",
       "   Day of the week (Monday to Friday)  Non-urgent order  Urgent order  \\\n",
       "0                                   4           316.307       223.270   \n",
       "1                                   5           128.633        96.042   \n",
       "2                                   6            43.651        84.375   \n",
       "3                                   2           171.297       127.667   \n",
       "4                                   3            90.532       113.526   \n",
       "\n",
       "   Order type A  Order type B  Order type C  Fiscal sector orders  \\\n",
       "0        61.543       175.586       302.448                 0.000   \n",
       "1        38.058        56.037       130.580                 0.000   \n",
       "2        21.826        25.125        82.461                 1.386   \n",
       "3        41.542       113.294       162.284                18.156   \n",
       "4        37.679        56.618       116.220                 6.459   \n",
       "\n",
       "   Orders from the traffic controller sector  Banking orders (1)  \\\n",
       "0                                      65556               44914   \n",
       "1                                      40419               21399   \n",
       "2                                      11992                3452   \n",
       "3                                      49971               33703   \n",
       "4                                      48534               19646   \n",
       "\n",
       "   Banking orders (2)  Banking orders (3)  Target (Total orders)  \n",
       "0              188411               14793                539.577  \n",
       "1               89461                7679                224.675  \n",
       "2               21305               14947                129.412  \n",
       "3               69054               18423                317.120  \n",
       "4               16411               20257                210.517  "
      ]
     },
     "execution_count": 54,
     "metadata": {},
     "output_type": "execute_result"
    }
   ],
   "source": [
    "train.head()"
   ]
  },
  {
   "cell_type": "code",
   "execution_count": 55,
   "metadata": {},
   "outputs": [
    {
     "data": {
      "text/plain": [
       "Index(['Week of the month (first week second third fourth or fifth week)',\n",
       "       'Day of the week (Monday to Friday)', 'Non-urgent order',\n",
       "       'Urgent order', 'Order type A', 'Order type B', 'Order type C',\n",
       "       'Fiscal sector orders', 'Orders from the traffic controller sector',\n",
       "       'Banking orders (1)', 'Banking orders (2)', 'Banking orders (3)',\n",
       "       'Target (Total orders)'],\n",
       "      dtype='object')"
      ]
     },
     "execution_count": 55,
     "metadata": {},
     "output_type": "execute_result"
    }
   ],
   "source": [
    "train.columns"
   ]
  },
  {
   "cell_type": "code",
   "execution_count": 56,
   "metadata": {},
   "outputs": [
    {
     "data": {
      "text/html": [
       "<div>\n",
       "<style scoped>\n",
       "    .dataframe tbody tr th:only-of-type {\n",
       "        vertical-align: middle;\n",
       "    }\n",
       "\n",
       "    .dataframe tbody tr th {\n",
       "        vertical-align: top;\n",
       "    }\n",
       "\n",
       "    .dataframe thead th {\n",
       "        text-align: right;\n",
       "    }\n",
       "</style>\n",
       "<table border=\"1\" class=\"dataframe\">\n",
       "  <thead>\n",
       "    <tr style=\"text-align: right;\">\n",
       "      <th></th>\n",
       "      <th>Week of the month (first week second third fourth or fifth week)</th>\n",
       "      <th>Target (Total orders)</th>\n",
       "    </tr>\n",
       "  </thead>\n",
       "  <tbody>\n",
       "    <tr>\n",
       "      <th>0</th>\n",
       "      <td>1</td>\n",
       "      <td>539.577</td>\n",
       "    </tr>\n",
       "    <tr>\n",
       "      <th>1</th>\n",
       "      <td>1</td>\n",
       "      <td>224.675</td>\n",
       "    </tr>\n",
       "    <tr>\n",
       "      <th>2</th>\n",
       "      <td>1</td>\n",
       "      <td>129.412</td>\n",
       "    </tr>\n",
       "    <tr>\n",
       "      <th>3</th>\n",
       "      <td>2</td>\n",
       "      <td>317.120</td>\n",
       "    </tr>\n",
       "    <tr>\n",
       "      <th>4</th>\n",
       "      <td>2</td>\n",
       "      <td>210.517</td>\n",
       "    </tr>\n",
       "  </tbody>\n",
       "</table>\n",
       "</div>"
      ],
      "text/plain": [
       "   Week of the month (first week second third fourth or fifth week)  \\\n",
       "0                                                  1                  \n",
       "1                                                  1                  \n",
       "2                                                  1                  \n",
       "3                                                  2                  \n",
       "4                                                  2                  \n",
       "\n",
       "   Target (Total orders)  \n",
       "0                539.577  \n",
       "1                224.675  \n",
       "2                129.412  \n",
       "3                317.120  \n",
       "4                210.517  "
      ]
     },
     "execution_count": 56,
     "metadata": {},
     "output_type": "execute_result"
    }
   ],
   "source": [
    "train[['Week of the month (first week second third fourth or fifth week)', 'Target (Total orders)']].head()"
   ]
  },
  {
   "cell_type": "code",
   "execution_count": 57,
   "metadata": {},
   "outputs": [
    {
     "data": {
      "image/png": "[encoded data removed]",
      "text/plain": [
       "<Figure size 640x480 with 1 Axes>"
      ]
     },
     "metadata": {},
     "output_type": "display_data"
    }
   ],
   "source": [
    "#Creacion de la grafica con eje x para las semanas del mes y eje y para el total de las ordenes\n",
    "train.plot.scatter(x='Week of the month (first week second third fourth or fifth week)', y='Target (Total orders)')\n",
    "plt.show()"
   ]
  },
  {
   "cell_type": "code",
   "execution_count": 58,
   "metadata": {},
   "outputs": [
    {
     "data": {
      "text/plain": [
       "1"
      ]
     },
     "execution_count": 58,
     "metadata": {},
     "output_type": "execute_result"
    }
   ],
   "source": [
    "#Minimo dato del eje x\n",
    "train['Week of the month (first week second third fourth or fifth week)'].min()"
   ]
  },
  {
   "cell_type": "code",
   "execution_count": 59,
   "metadata": {},
   "outputs": [],
   "source": [
    "#Datos de la recta\n",
    "w= 25\n",
    "b= 200"
   ]
  },
  {
   "cell_type": "code",
   "execution_count": 60,
   "metadata": {},
   "outputs": [
    {
     "data": {
      "image/png": "[encoded data removed]",
      "text/plain": [
       "<Figure size 640x480 with 1 Axes>"
      ]
     },
     "metadata": {},
     "output_type": "display_data"
    }
   ],
   "source": [
    "#Creacion de recta respecto a los puntos\n",
    "x= np.linspace(0, train['Week of the month (first week second third fourth or fifth week)'].max(), 100)\n",
    "y= w*x+b\n",
    "#Creacion de la grafica tomando en cuenta la recta\n",
    "train.plot.scatter(x='Week of the month (first week second third fourth or fifth week)', y='Target (Total orders)')\n",
    "plt.plot(x, y, '-r')\n",
    "plt.ylim(0, train['Target (Total orders)'].max()*1.1)\n",
    "\n",
    "plt.show()"
   ]
  },
  {
   "cell_type": "code",
   "execution_count": 61,
   "metadata": {},
   "outputs": [
    {
     "data": {
      "text/html": [
       "<div>\n",
       "<style scoped>\n",
       "    .dataframe tbody tr th:only-of-type {\n",
       "        vertical-align: middle;\n",
       "    }\n",
       "\n",
       "    .dataframe tbody tr th {\n",
       "        vertical-align: top;\n",
       "    }\n",
       "\n",
       "    .dataframe thead th {\n",
       "        text-align: right;\n",
       "    }\n",
       "</style>\n",
       "<table border=\"1\" class=\"dataframe\">\n",
       "  <thead>\n",
       "    <tr style=\"text-align: right;\">\n",
       "      <th></th>\n",
       "      <th>Week of the month (first week second third fourth or fifth week)</th>\n",
       "      <th>Day of the week (Monday to Friday)</th>\n",
       "      <th>Non-urgent order</th>\n",
       "      <th>Urgent order</th>\n",
       "      <th>Order type A</th>\n",
       "      <th>Order type B</th>\n",
       "      <th>Order type C</th>\n",
       "      <th>Fiscal sector orders</th>\n",
       "      <th>Orders from the traffic controller sector</th>\n",
       "      <th>Banking orders (1)</th>\n",
       "      <th>Banking orders (2)</th>\n",
       "      <th>Banking orders (3)</th>\n",
       "      <th>Target (Total orders)</th>\n",
       "      <th>Prediccion</th>\n",
       "      <th>Diferencia</th>\n",
       "      <th>Cuadrado</th>\n",
       "    </tr>\n",
       "  </thead>\n",
       "  <tbody>\n",
       "    <tr>\n",
       "      <th>0</th>\n",
       "      <td>1</td>\n",
       "      <td>4</td>\n",
       "      <td>316.307</td>\n",
       "      <td>223.270</td>\n",
       "      <td>61.543</td>\n",
       "      <td>175.586</td>\n",
       "      <td>302.448</td>\n",
       "      <td>0.000</td>\n",
       "      <td>65556</td>\n",
       "      <td>44914</td>\n",
       "      <td>188411</td>\n",
       "      <td>14793</td>\n",
       "      <td>539.577</td>\n",
       "      <td>1</td>\n",
       "      <td>-538.577</td>\n",
       "      <td>290065.184929</td>\n",
       "    </tr>\n",
       "    <tr>\n",
       "      <th>1</th>\n",
       "      <td>1</td>\n",
       "      <td>5</td>\n",
       "      <td>128.633</td>\n",
       "      <td>96.042</td>\n",
       "      <td>38.058</td>\n",
       "      <td>56.037</td>\n",
       "      <td>130.580</td>\n",
       "      <td>0.000</td>\n",
       "      <td>40419</td>\n",
       "      <td>21399</td>\n",
       "      <td>89461</td>\n",
       "      <td>7679</td>\n",
       "      <td>224.675</td>\n",
       "      <td>1</td>\n",
       "      <td>-223.675</td>\n",
       "      <td>50030.505625</td>\n",
       "    </tr>\n",
       "    <tr>\n",
       "      <th>2</th>\n",
       "      <td>1</td>\n",
       "      <td>6</td>\n",
       "      <td>43.651</td>\n",
       "      <td>84.375</td>\n",
       "      <td>21.826</td>\n",
       "      <td>25.125</td>\n",
       "      <td>82.461</td>\n",
       "      <td>1.386</td>\n",
       "      <td>11992</td>\n",
       "      <td>3452</td>\n",
       "      <td>21305</td>\n",
       "      <td>14947</td>\n",
       "      <td>129.412</td>\n",
       "      <td>1</td>\n",
       "      <td>-128.412</td>\n",
       "      <td>16489.641744</td>\n",
       "    </tr>\n",
       "    <tr>\n",
       "      <th>3</th>\n",
       "      <td>2</td>\n",
       "      <td>2</td>\n",
       "      <td>171.297</td>\n",
       "      <td>127.667</td>\n",
       "      <td>41.542</td>\n",
       "      <td>113.294</td>\n",
       "      <td>162.284</td>\n",
       "      <td>18.156</td>\n",
       "      <td>49971</td>\n",
       "      <td>33703</td>\n",
       "      <td>69054</td>\n",
       "      <td>18423</td>\n",
       "      <td>317.120</td>\n",
       "      <td>2</td>\n",
       "      <td>-315.120</td>\n",
       "      <td>99300.614400</td>\n",
       "    </tr>\n",
       "    <tr>\n",
       "      <th>4</th>\n",
       "      <td>2</td>\n",
       "      <td>3</td>\n",
       "      <td>90.532</td>\n",
       "      <td>113.526</td>\n",
       "      <td>37.679</td>\n",
       "      <td>56.618</td>\n",
       "      <td>116.220</td>\n",
       "      <td>6.459</td>\n",
       "      <td>48534</td>\n",
       "      <td>19646</td>\n",
       "      <td>16411</td>\n",
       "      <td>20257</td>\n",
       "      <td>210.517</td>\n",
       "      <td>2</td>\n",
       "      <td>-208.517</td>\n",
       "      <td>43479.339289</td>\n",
       "    </tr>\n",
       "  </tbody>\n",
       "</table>\n",
       "</div>"
      ],
      "text/plain": [
       "   Week of the month (first week second third fourth or fifth week)  \\\n",
       "0                                                  1                  \n",
       "1                                                  1                  \n",
       "2                                                  1                  \n",
       "3                                                  2                  \n",
       "4                                                  2                  \n",
       "\n",
       "   Day of the week (Monday to Friday)  Non-urgent order  Urgent order  \\\n",
       "0                                   4           316.307       223.270   \n",
       "1                                   5           128.633        96.042   \n",
       "2                                   6            43.651        84.375   \n",
       "3                                   2           171.297       127.667   \n",
       "4                                   3            90.532       113.526   \n",
       "\n",
       "   Order type A  Order type B  Order type C  Fiscal sector orders  \\\n",
       "0        61.543       175.586       302.448                 0.000   \n",
       "1        38.058        56.037       130.580                 0.000   \n",
       "2        21.826        25.125        82.461                 1.386   \n",
       "3        41.542       113.294       162.284                18.156   \n",
       "4        37.679        56.618       116.220                 6.459   \n",
       "\n",
       "   Orders from the traffic controller sector  Banking orders (1)  \\\n",
       "0                                      65556               44914   \n",
       "1                                      40419               21399   \n",
       "2                                      11992                3452   \n",
       "3                                      49971               33703   \n",
       "4                                      48534               19646   \n",
       "\n",
       "   Banking orders (2)  Banking orders (3)  Target (Total orders)  Prediccion  \\\n",
       "0              188411               14793                539.577           1   \n",
       "1               89461                7679                224.675           1   \n",
       "2               21305               14947                129.412           1   \n",
       "3               69054               18423                317.120           2   \n",
       "4               16411               20257                210.517           2   \n",
       "\n",
       "   Diferencia       Cuadrado  \n",
       "0    -538.577  290065.184929  \n",
       "1    -223.675   50030.505625  \n",
       "2    -128.412   16489.641744  \n",
       "3    -315.120   99300.614400  \n",
       "4    -208.517   43479.339289  "
      ]
     },
     "execution_count": 61,
     "metadata": {},
     "output_type": "execute_result"
    }
   ],
   "source": [
    "#Calculo de predicciones\n",
    "train['Prediccion']= train['Week of the month (first week second third fourth or fifth week)']\n",
    "#Calculo de la funcion de error\n",
    "train['Diferencia']= train['Prediccion'] - train['Target (Total orders)']\n",
    "train['Cuadrado']= train['Diferencia']**2\n",
    "train.head()"
   ]
  },
  {
   "cell_type": "code",
   "execution_count": 62,
   "metadata": {},
   "outputs": [
    {
     "data": {
      "text/plain": [
       "96567.08612595002"
      ]
     },
     "execution_count": 62,
     "metadata": {},
     "output_type": "execute_result"
    }
   ],
   "source": [
    "train['Cuadrado'].mean()"
   ]
  },
  {
   "cell_type": "code",
   "execution_count": 63,
   "metadata": {},
   "outputs": [
    {
     "data": {
      "text/html": [
       "<div>\n",
       "<style scoped>\n",
       "    .dataframe tbody tr th:only-of-type {\n",
       "        vertical-align: middle;\n",
       "    }\n",
       "\n",
       "    .dataframe tbody tr th {\n",
       "        vertical-align: top;\n",
       "    }\n",
       "\n",
       "    .dataframe thead th {\n",
       "        text-align: right;\n",
       "    }\n",
       "</style>\n",
       "<table border=\"1\" class=\"dataframe\">\n",
       "  <thead>\n",
       "    <tr style=\"text-align: right;\">\n",
       "      <th></th>\n",
       "      <th>w</th>\n",
       "    </tr>\n",
       "  </thead>\n",
       "  <tbody>\n",
       "    <tr>\n",
       "      <th>0</th>\n",
       "      <td>50.000000</td>\n",
       "    </tr>\n",
       "    <tr>\n",
       "      <th>1</th>\n",
       "      <td>53.061224</td>\n",
       "    </tr>\n",
       "    <tr>\n",
       "      <th>2</th>\n",
       "      <td>56.122449</td>\n",
       "    </tr>\n",
       "    <tr>\n",
       "      <th>3</th>\n",
       "      <td>59.183673</td>\n",
       "    </tr>\n",
       "    <tr>\n",
       "      <th>4</th>\n",
       "      <td>62.244898</td>\n",
       "    </tr>\n",
       "  </tbody>\n",
       "</table>\n",
       "</div>"
      ],
      "text/plain": [
       "           w\n",
       "0  50.000000\n",
       "1  53.061224\n",
       "2  56.122449\n",
       "3  59.183673\n",
       "4  62.244898"
      ]
     },
     "execution_count": 63,
     "metadata": {},
     "output_type": "execute_result"
    }
   ],
   "source": [
    "#grid de la funcion basada en m, b=0\n",
    "w= np.linspace(50, 200, 50)\n",
    "grid_error= pd.DataFrame(w, columns=['w'])\n",
    "grid_error.head()"
   ]
  },
  {
   "cell_type": "code",
   "execution_count": 64,
   "metadata": {},
   "outputs": [],
   "source": [
    "def sum_error(w, train):\n",
    "    b= 0\n",
    "    train['Prediccion']= train['Week of the month (first week second third fourth or fifth week)']*w+b\n",
    "    train['Diferencia']= train['Prediccion'] - train['Target (Total orders)']\n",
    "    train['Cuadrado']= train['Diferencia']**2\n",
    "    return(train['Cuadrado'].mean())"
   ]
  },
  {
   "cell_type": "code",
   "execution_count": 65,
   "metadata": {},
   "outputs": [
    {
     "data": {
      "text/html": [
       "<div>\n",
       "<style scoped>\n",
       "    .dataframe tbody tr th:only-of-type {\n",
       "        vertical-align: middle;\n",
       "    }\n",
       "\n",
       "    .dataframe tbody tr th {\n",
       "        vertical-align: top;\n",
       "    }\n",
       "\n",
       "    .dataframe thead th {\n",
       "        text-align: right;\n",
       "    }\n",
       "</style>\n",
       "<table border=\"1\" class=\"dataframe\">\n",
       "  <thead>\n",
       "    <tr style=\"text-align: right;\">\n",
       "      <th></th>\n",
       "      <th>w</th>\n",
       "      <th>Error</th>\n",
       "    </tr>\n",
       "  </thead>\n",
       "  <tbody>\n",
       "    <tr>\n",
       "      <th>0</th>\n",
       "      <td>50.000000</td>\n",
       "      <td>32056.127959</td>\n",
       "    </tr>\n",
       "    <tr>\n",
       "      <th>1</th>\n",
       "      <td>53.061224</td>\n",
       "      <td>29733.799252</td>\n",
       "    </tr>\n",
       "    <tr>\n",
       "      <th>2</th>\n",
       "      <td>56.122449</td>\n",
       "      <td>27612.324357</td>\n",
       "    </tr>\n",
       "    <tr>\n",
       "      <th>3</th>\n",
       "      <td>59.183673</td>\n",
       "      <td>25691.703272</td>\n",
       "    </tr>\n",
       "    <tr>\n",
       "      <th>4</th>\n",
       "      <td>62.244898</td>\n",
       "      <td>23971.935998</td>\n",
       "    </tr>\n",
       "  </tbody>\n",
       "</table>\n",
       "</div>"
      ],
      "text/plain": [
       "           w         Error\n",
       "0  50.000000  32056.127959\n",
       "1  53.061224  29733.799252\n",
       "2  56.122449  27612.324357\n",
       "3  59.183673  25691.703272\n",
       "4  62.244898  23971.935998"
      ]
     },
     "execution_count": 65,
     "metadata": {},
     "output_type": "execute_result"
    }
   ],
   "source": [
    "grid_error['Error']= grid_error['w'].apply(lambda x: sum_error(x, train=train))\n",
    "grid_error.head()"
   ]
  },
  {
   "cell_type": "code",
   "execution_count": 66,
   "metadata": {},
   "outputs": [
    {
     "data": {
      "image/png": "[encoded data removed]",
      "text/plain": [
       "<Figure size 640x480 with 1 Axes>"
      ]
     },
     "metadata": {},
     "output_type": "display_data"
    }
   ],
   "source": [
    "grid_error.plot(x='w', y='Error')\n",
    "plt.show()"
   ]
  },
  {
   "cell_type": "code",
   "execution_count": 72,
   "metadata": {},
   "outputs": [
    {
     "name": "stdout",
     "output_type": "stream",
     "text": [
      "Intercepto (b): 0.0\n",
      "Pendiente (w): [86.9253577]\n"
     ]
    }
   ],
   "source": [
    "from sklearn.linear_model import LinearRegression\n",
    "\n",
    "#Definiendo los ejes\n",
    "X_train= np.array(train['Week of the month (first week second third fourth or fifth week)']).reshape((-1, 1))\n",
    "Y_train= np.array(train['Target (Total orders)'])\n",
    "X_test= np.array(test['Week of the month (first week second third fourth or fifth week)']).reshape((-1, 1))\n",
    "Y_test= np.array(test['Target (Total orders)'])\n",
    "\n",
    "#Creando el modelo\n",
    "model= LinearRegression(fit_intercept=False)\n",
    "model.fit(X_train, Y_train)\n",
    "\n",
    "#Se imprimen parametros\n",
    "print(f\"Intercepto (b): {model.intercept_}\")\n",
    "print(f\"Pendiente (w): {model.coef_}\")"
   ]
  },
  {
   "cell_type": "code",
   "execution_count": 68,
   "metadata": {},
   "outputs": [],
   "source": [
    "from sklearn import metrics\n",
    "\n",
    "#Sacando los valores de mae, rmse y r2\n",
    "def print_evaluate(true, predicted):  \n",
    "    mae = metrics.mean_absolute_error(true, predicted)\n",
    "    rmse = np.sqrt(metrics.mean_squared_error(true, predicted))\n",
    "    r2_square = metrics.r2_score(true, predicted)\n",
    "    print('MAE:', mae)\n",
    "    print('RMSE:', rmse)\n",
    "    print('R2 Square', r2_square)"
   ]
  },
  {
   "cell_type": "code",
   "execution_count": 74,
   "metadata": {},
   "outputs": [
    {
     "name": "stdout",
     "output_type": "stream",
     "text": [
      "Evaluacion del entreno:\n",
      "_____________________________________\n",
      "MAE: 100.86001570762053\n",
      "RMSE: 132.07628635878896\n",
      "R2 Square -1.2095973221304033\n",
      "\n",
      "Evaluacion del test:\n",
      "_____________________________________\n",
      "MAE: 100.86001570762053\n",
      "RMSE: 132.07628635878896\n",
      "R2 Square -1.2095973221304033\n"
     ]
    }
   ],
   "source": [
    "train_pred = model.predict(X_train)\n",
    "test_pred = model.predict(X_test)\n",
    "\n",
    "#Imprime los datos de evaluacion para el entreno\n",
    "print('Evaluacion del entreno:\\n_____________________________________')\n",
    "print_evaluate(Y_train, train_pred)\n",
    "\n",
    "#Imprime los datos de evaluacion para el test(Sin resolver aun)\n",
    "print('\\nEvaluacion del test:\\n_____________________________________')\n",
    "print_evaluate(Y_test, test_pred)"
   ]
  }
 ],
 "metadata": {
  "kernelspec": {
   "display_name": "Python 3",
   "language": "python",
   "name": "python3"
  },
  "language_info": {
   "codemirror_mode": {
    "name": "ipython",
    "version": 3
   },
   "file_extension": ".py",
   "mimetype": "text/x-python",
   "name": "python",
   "nbconvert_exporter": "python",
   "pygments_lexer": "ipython3",
   "version": "3.11.5"
  },
  "orig_nbformat": 4
 },
 "nbformat": 4,
 "nbformat_minor": 2
}
